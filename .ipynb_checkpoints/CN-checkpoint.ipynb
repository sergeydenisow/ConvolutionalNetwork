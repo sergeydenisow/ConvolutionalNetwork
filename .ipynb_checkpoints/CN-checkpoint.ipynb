{
 "cells": [
  {
   "cell_type": "markdown",
   "id": "63f8916a-7339-47bb-8b5f-7beef6d9b949",
   "metadata": {},
   "source": [
    "# Convolutional Networks\n",
    "\n",
    "**Используя сверточные слои и архитектуру получите на fashion mnist качество не ниже 89,5%**"
   ]
  },
  {
   "cell_type": "code",
   "execution_count": 1,
   "id": "630f2864-8935-4358-ae36-d843b158895c",
   "metadata": {},
   "outputs": [],
   "source": [
    "import matplotlib.pyplot as plt\n",
    "%matplotlib inline"
   ]
  },
  {
   "cell_type": "code",
   "execution_count": 2,
   "id": "d2e65cbf-06e2-41fb-9c83-e1aed989a18c",
   "metadata": {},
   "outputs": [],
   "source": [
    "import torch"
   ]
  },
  {
   "cell_type": "code",
   "execution_count": 3,
   "id": "484a2eb8-128c-4026-820e-1961200ee32a",
   "metadata": {},
   "outputs": [],
   "source": [
    "import torchvision as tv"
   ]
  },
  {
   "cell_type": "code",
   "execution_count": 4,
   "id": "e99c9323-62a0-41b4-9fa6-7738fe8d5152",
   "metadata": {},
   "outputs": [],
   "source": [
    "BATCH_SIZE=256"
   ]
  },
  {
   "cell_type": "code",
   "execution_count": 5,
   "id": "1a22b4c8-afb8-42d0-906f-c72096d71c0c",
   "metadata": {},
   "outputs": [],
   "source": [
    "# device = torch.device('cuda' if torch.cuda.is_available() else 'cpu')"
   ]
  },
  {
   "cell_type": "code",
   "execution_count": 7,
   "id": "395ffcc6-d296-41db-9b63-f9ea43ae5e6a",
   "metadata": {},
   "outputs": [],
   "source": [
    "# device"
   ]
  },
  {
   "cell_type": "markdown",
   "id": "d5cbff7e-6b4a-4847-b9cd-a8879540b922",
   "metadata": {},
   "source": [
    "## Данные"
   ]
  },
  {
   "cell_type": "code",
   "execution_count": 8,
   "id": "f65ac8fe-91d2-4f90-8eee-600518ef0db8",
   "metadata": {},
   "outputs": [],
   "source": [
    "train_dataset = tv.datasets.FashionMNIST('.', train=True, transform=tv.transforms.ToTensor(), download=True)\n",
    "test_dataset = tv.datasets.FashionMNIST('.', train=False, transform=tv.transforms.ToTensor(), download=True)\n",
    "\n",
    "# # Move all data to cuda.\n",
    "# train_dataset.data.to(device)\n",
    "# train_dataset.targets.to(device)\n",
    "# test_dataset.data.to(device)\n",
    "# test_dataset.targets.to(device)\n",
    "\n",
    "# Create data loader.\n",
    "train = torch.utils.data.DataLoader(train_dataset, batch_size=BATCH_SIZE)\n",
    "test = torch.utils.data.DataLoader(test_dataset, batch_size=BATCH_SIZE)"
   ]
  },
  {
   "cell_type": "code",
   "execution_count": null,
   "id": "f73cbde4-26af-444a-a376-0650cf9ad95e",
   "metadata": {},
   "outputs": [],
   "source": []
  },
  {
   "cell_type": "code",
   "execution_count": 9,
   "id": "d384a546-aa40-49df-8f65-374a7afd0616",
   "metadata": {},
   "outputs": [],
   "source": [
    "import numpy as np"
   ]
  },
  {
   "cell_type": "code",
   "execution_count": 10,
   "id": "e82af1f2-b7dc-456e-acd0-59c2703643ba",
   "metadata": {},
   "outputs": [
    {
     "data": {
      "text/plain": [
       "torch.Size([60000])"
      ]
     },
     "execution_count": 10,
     "metadata": {},
     "output_type": "execute_result"
    }
   ],
   "source": [
    "train.dataset.targets.shape"
   ]
  },
  {
   "cell_type": "code",
   "execution_count": 11,
   "id": "394cf1fa-4efb-427e-86e8-43c294362960",
   "metadata": {},
   "outputs": [
    {
     "data": {
      "text/plain": [
       "<matplotlib.image.AxesImage at 0x7f8dc664bfd0>"
      ]
     },
     "execution_count": 11,
     "metadata": {},
     "output_type": "execute_result"
    },
    {
     "data": {
      "image/png": "[encoded data removed]",
      "text/plain": [
       "<Figure size 432x288 with 1 Axes>"
      ]
     },
     "metadata": {
      "needs_background": "light"
     },
     "output_type": "display_data"
    }
   ],
   "source": [
    "plt.imshow(test_dataset[0][0].numpy().reshape(28,28), cmap='gray')"
   ]
  },
  {
   "cell_type": "markdown",
   "id": "51623b7d-13b5-4dae-aeea-7d93e78a1cb9",
   "metadata": {},
   "source": [
    "## Модель"
   ]
  },
  {
   "cell_type": "code",
   "execution_count": 13,
   "id": "43fe5bed-3d6c-4f74-ab09-d54bbf6201b5",
   "metadata": {},
   "outputs": [],
   "source": [
    "class CNN(torch.nn.Module):\n",
    "\n",
    "    def __init__(self):\n",
    "        super(CNN, self).__init__()\n",
    "        self.classifier = torch.nn.Sequential(\n",
    "            torch.nn.Conv2d(in_channels=1, out_channels=8, kernel_size=(3,3), padding=(1,1), stride=(1,1)),\n",
    "            torch.nn.MaxPool2d(kernel_size=(2,2), stride=(2,2)),\n",
    "            # torch.nn.ReLU(),\n",
    "            torch.nn.Conv2d(in_channels=8, out_channels=16, kernel_size=(3,3), padding=(1,1), stride=(1,1)),\n",
    "            torch.nn.MaxPool2d(kernel_size=(2,2), stride=(2,2)),\n",
    "            # torch.nn.ReLU(),\n",
    "            torch.nn.Flatten(),\n",
    "            torch.nn.Linear(16*7*7, 256),\n",
    "            torch.nn.BatchNorm1d(256),\n",
    "            torch.nn.ReLU(),\n",
    "            torch.nn.Linear(256, 10)\n",
    "        )\n",
    "        \n",
    "    def forward(self, x):\n",
    "#         x = x.view(x.size(0), -1)\n",
    "        return self.classifier(x)\n",
    "\n",
    "# model\n",
    "model = CNN()\n",
    "\n",
    "# move to device.\n",
    "# model.to(device)\n",
    "\n",
    "loss = torch.nn.CrossEntropyLoss()\n",
    "optimizer = torch.optim.RMSprop(model.parameters(), lr = 0.0001)"
   ]
  },
  {
   "cell_type": "code",
   "execution_count": 14,
   "id": "a71fc4cc-9858-4efa-bf00-29245d525f2e",
   "metadata": {},
   "outputs": [
    {
     "data": {
      "text/plain": [
       "CNN(\n",
       "  (classifier): Sequential(\n",
       "    (0): Conv2d(1, 8, kernel_size=(3, 3), stride=(1, 1), padding=(1, 1))\n",
       "    (1): MaxPool2d(kernel_size=(2, 2), stride=(2, 2), padding=0, dilation=1, ceil_mode=False)\n",
       "    (2): Conv2d(8, 16, kernel_size=(3, 3), stride=(1, 1), padding=(1, 1))\n",
       "    (3): MaxPool2d(kernel_size=(2, 2), stride=(2, 2), padding=0, dilation=1, ceil_mode=False)\n",
       "    (4): Flatten(start_dim=1, end_dim=-1)\n",
       "    (5): Linear(in_features=784, out_features=256, bias=True)\n",
       "    (6): BatchNorm1d(256, eps=1e-05, momentum=0.1, affine=True, track_running_stats=True)\n",
       "    (7): ReLU()\n",
       "    (8): Linear(in_features=256, out_features=10, bias=True)\n",
       "  )\n",
       ")"
      ]
     },
     "execution_count": 14,
     "metadata": {},
     "output_type": "execute_result"
    }
   ],
   "source": [
    "model"
   ]
  },
  {
   "cell_type": "code",
   "execution_count": 15,
   "id": "15dc66f5-9e94-47a4-827b-b8712ed8a07a",
   "metadata": {},
   "outputs": [
    {
     "name": "stdout",
     "output_type": "stream",
     "text": [
      "epoch: 0, train_loss: 0.5608059274389389, train_acc: 0.8264333333333334, test_loss: 0.434088246524334, test_acc: 0.8592\n",
      "epoch: 1, train_loss: 0.3757841114034044, train_acc: 0.8739, test_loss: 0.3696640312671661, test_acc: 0.8735\n",
      "epoch: 2, train_loss: 0.32571695155285774, train_acc: 0.88675, test_loss: 0.3391613528132439, test_acc: 0.8801\n",
      "epoch: 3, train_loss: 0.29650153536745844, train_acc: 0.8961666666666667, test_loss: 0.3206093806773424, test_acc: 0.8846\n",
      "epoch: 4, train_loss: 0.2756468693626688, train_acc: 0.9033166666666667, test_loss: 0.30736653693020344, test_acc: 0.8884\n",
      "epoch: 5, train_loss: 0.2590578892763625, train_acc: 0.9088666666666667, test_loss: 0.2973133195191622, test_acc: 0.8911\n",
      "epoch: 6, train_loss: 0.24504866726855015, train_acc: 0.9137, test_loss: 0.28958231918513777, test_acc: 0.8938\n",
      "epoch: 7, train_loss: 0.23273700164987685, train_acc: 0.9178666666666667, test_loss: 0.2837443552911282, test_acc: 0.896\n",
      "epoch: 8, train_loss: 0.22164775348724203, train_acc: 0.9219666666666667, test_loss: 0.27912291288375857, test_acc: 0.8983\n",
      "epoch: 9, train_loss: 0.21152140105024297, train_acc: 0.92615, test_loss: 0.2756957024335861, test_acc: 0.9005\n",
      "epoch: 10, train_loss: 0.20217256149713028, train_acc: 0.92945, test_loss: 0.27276255264878274, test_acc: 0.9015\n",
      "epoch: 11, train_loss: 0.19340237962438706, train_acc: 0.9327666666666666, test_loss: 0.27066088691353796, test_acc: 0.9021\n",
      "epoch: 12, train_loss: 0.18511208761879738, train_acc: 0.9367166666666666, test_loss: 0.2686981100589037, test_acc: 0.9031\n",
      "epoch: 13, train_loss: 0.17714016935292712, train_acc: 0.93975, test_loss: 0.2674416620284319, test_acc: 0.9039\n",
      "epoch: 14, train_loss: 0.16950963012715603, train_acc: 0.9431666666666667, test_loss: 0.26655409298837185, test_acc: 0.905\n",
      "epoch: 15, train_loss: 0.16213578863980924, train_acc: 0.9459333333333333, test_loss: 0.26609258726239204, test_acc: 0.9045\n",
      "epoch: 16, train_loss: 0.15508005422480564, train_acc: 0.94855, test_loss: 0.26578169241547583, test_acc: 0.9046\n",
      "epoch: 17, train_loss: 0.14821413634939395, train_acc: 0.9514, test_loss: 0.2658732790499926, test_acc: 0.9063\n",
      "epoch: 18, train_loss: 0.14157558717626206, train_acc: 0.9544166666666667, test_loss: 0.2664214979857206, test_acc: 0.9059\n",
      "epoch: 19, train_loss: 0.1351511947652127, train_acc: 0.9572, test_loss: 0.2671108994632959, test_acc: 0.9057\n"
     ]
    }
   ],
   "source": [
    "num_epochs = 20\n",
    "for epoch in range(num_epochs):\n",
    "    train_iters, train_passed = 0, 0\n",
    "    train_loss, train_acc = 0, 0\n",
    "    for batch_idx, (data, target) in enumerate(train):\n",
    "        optimizer.zero_grad()\n",
    "        y_pred = model(data)\n",
    "        l = loss(y_pred, target)\n",
    "        l.backward()\n",
    "        optimizer.step()\n",
    "        train_loss += l.item()\n",
    "        train_acc +=(y_pred.argmax(dim=1) == target).sum().item()\n",
    "        train_iters += 1\n",
    "        train_passed += len(data)\n",
    "        \n",
    "    test_iters, test_passed = 0, 0\n",
    "    test_loss, test_acc = 0, 0\n",
    "    for batch_idx, (data, target) in enumerate(test):\n",
    "        y_pred = model(data)\n",
    "        l = loss(y_pred, target)\n",
    "        test_loss += l.item()\n",
    "        test_acc += (y_pred.argmax(dim=1) == target).sum().item()\n",
    "        test_iters += 1\n",
    "        test_passed += len(data)\n",
    "        \n",
    "    # print('Epoch [{}/{}], Loss: {:.4f}'.format(epoch+1, num_epochs, l.item()))\n",
    "    print(\"epoch: {}, train_loss: {}, train_acc: {}, test_loss: {}, test_acc: {}\".format(epoch, train_loss / train_iters, train_acc / train_passed, test_loss / test_iters, test_acc / test_passed))"
   ]
  },
  {
   "cell_type": "code",
   "execution_count": null,
   "id": "c4826e43-7686-495c-b05f-f7fbef4b1c67",
   "metadata": {},
   "outputs": [],
   "source": []
  },
  {
   "cell_type": "code",
   "execution_count": null,
   "id": "c0702c8f-9f37-43eb-aef7-5739e68f1c8a",
   "metadata": {},
   "outputs": [],
   "source": []
  },
  {
   "cell_type": "code",
   "execution_count": null,
   "id": "0aa9d057-ef37-4821-bd01-c2509d3a3f06",
   "metadata": {},
   "outputs": [],
   "source": []
  }
 ],
 "metadata": {
  "kernelspec": {
   "display_name": "Python 3 (ipykernel)",
   "language": "python",
   "name": "python3"
  },
  "language_info": {
   "codemirror_mode": {
    "name": "ipython",
    "version": 3
   },
   "file_extension": ".py",
   "mimetype": "text/x-python",
   "name": "python",
   "nbconvert_exporter": "python",
   "pygments_lexer": "ipython3",
   "version": "3.10.6"
  }
 },
 "nbformat": 4,
 "nbformat_minor": 5
}
