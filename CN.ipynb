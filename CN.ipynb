{
 "cells": [
  {
   "cell_type": "markdown",
   "id": "63f8916a-7339-47bb-8b5f-7beef6d9b949",
   "metadata": {},
   "source": [
    "# Convolutional Networks\n",
    "\n",
    "**Используя сверточные слои и архитектуру получите на fashion mnist качество не ниже 89,5%**"
   ]
  },
  {
   "cell_type": "code",
   "execution_count": 1,
   "id": "630f2864-8935-4358-ae36-d843b158895c",
   "metadata": {},
   "outputs": [],
   "source": [
    "import matplotlib.pyplot as plt\n",
    "%matplotlib inline"
   ]
  },
  {
   "cell_type": "code",
   "execution_count": 2,
   "id": "d2e65cbf-06e2-41fb-9c83-e1aed989a18c",
   "metadata": {},
   "outputs": [],
   "source": [
    "import torch"
   ]
  },
  {
   "cell_type": "code",
   "execution_count": 3,
   "id": "484a2eb8-128c-4026-820e-1961200ee32a",
   "metadata": {},
   "outputs": [],
   "source": [
    "import torchvision as tv"
   ]
  },
  {
   "cell_type": "code",
   "execution_count": 4,
   "id": "e99c9323-62a0-41b4-9fa6-7738fe8d5152",
   "metadata": {},
   "outputs": [],
   "source": [
    "BATCH_SIZE=256"
   ]
  },
  {
   "cell_type": "markdown",
   "id": "d5cbff7e-6b4a-4847-b9cd-a8879540b922",
   "metadata": {},
   "source": [
    "## Данные"
   ]
  },
  {
   "cell_type": "code",
   "execution_count": 12,
   "id": "f65ac8fe-91d2-4f90-8eee-600518ef0db8",
   "metadata": {},
   "outputs": [],
   "source": [
    "train_dataset = tv.datasets.FashionMNIST('.', train=True, transform=tv.transforms.ToTensor(), download=True)\n",
    "test_dataset = tv.datasets.FashionMNIST('.', train=False, transform=tv.transforms.ToTensor(), download=True)\n",
    "train = torch.utils.data.DataLoader(train_dataset, batch_size=BATCH_SIZE)\n",
    "test = torch.utils.data.DataLoader(test_dataset, batch_size=BATCH_SIZE)"
   ]
  },
  {
   "cell_type": "code",
   "execution_count": 6,
   "id": "d384a546-aa40-49df-8f65-374a7afd0616",
   "metadata": {},
   "outputs": [],
   "source": [
    "import numpy as np"
   ]
  },
  {
   "cell_type": "code",
   "execution_count": 7,
   "id": "e82af1f2-b7dc-456e-acd0-59c2703643ba",
   "metadata": {},
   "outputs": [
    {
     "data": {
      "text/plain": [
       "torch.Size([60000])"
      ]
     },
     "execution_count": 7,
     "metadata": {},
     "output_type": "execute_result"
    }
   ],
   "source": [
    "train.dataset.targets.shape"
   ]
  },
  {
   "cell_type": "code",
   "execution_count": 8,
   "id": "394cf1fa-4efb-427e-86e8-43c294362960",
   "metadata": {},
   "outputs": [
    {
     "data": {
      "text/plain": [
       "<matplotlib.image.AxesImage at 0x1370f6400>"
      ]
     },
     "execution_count": 8,
     "metadata": {},
     "output_type": "execute_result"
    },
    {
     "data": {
      "image/png": "[encoded data removed]",
      "text/plain": [
       "<Figure size 432x288 with 1 Axes>"
      ]
     },
     "metadata": {
      "needs_background": "light"
     },
     "output_type": "display_data"
    }
   ],
   "source": [
    "plt.imshow(test_dataset[0][0].numpy().reshape(28,28), cmap='gray')"
   ]
  },
  {
   "cell_type": "markdown",
   "id": "51623b7d-13b5-4dae-aeea-7d93e78a1cb9",
   "metadata": {},
   "source": [
    "## Модель"
   ]
  },
  {
   "cell_type": "code",
   "execution_count": 24,
   "id": "43fe5bed-3d6c-4f74-ab09-d54bbf6201b5",
   "metadata": {},
   "outputs": [],
   "source": [
    "class CNN(torch.nn.Module):\n",
    "\n",
    "    def __init__(self):\n",
    "        super(CNN, self).__init__()\n",
    "        self.classifier = torch.nn.Sequential(\n",
    "            torch.nn.Conv2d(in_channels=1, out_channels=8, kernel_size=(3,3), padding=(1,1), stride=(1,1)),\n",
    "            torch.nn.MaxPool2d(kernel_size=(2,2), stride=(2,2)),\n",
    "            torch.nn.ReLU(),\n",
    "            torch.nn.Flatten(),\n",
    "            torch.nn.Linear(8*14*14, 10)\n",
    "        )\n",
    "        \n",
    "    def forward(self, x):\n",
    "#         x = x.view(x.size(0), -1)\n",
    "        return self.classifier(x)\n",
    "\n",
    "# model\n",
    "model = CNN()\n",
    "\n",
    "# move to device.\n",
    "# model.to(device)\n",
    "\n",
    "loss = torch.nn.CrossEntropyLoss()\n",
    "optimizer = torch.optim.RMSprop(model.parameters(), lr = 0.0001)"
   ]
  },
  {
   "cell_type": "code",
   "execution_count": 25,
   "id": "a71fc4cc-9858-4efa-bf00-29245d525f2e",
   "metadata": {},
   "outputs": [
    {
     "data": {
      "text/plain": [
       "CNN(\n",
       "  (classifier): Sequential(\n",
       "    (0): Conv2d(1, 8, kernel_size=(3, 3), stride=(1, 1), padding=(1, 1))\n",
       "    (1): MaxPool2d(kernel_size=(2, 2), stride=(2, 2), padding=0, dilation=1, ceil_mode=False)\n",
       "    (2): ReLU()\n",
       "    (3): Flatten(start_dim=1, end_dim=-1)\n",
       "    (4): Linear(in_features=1568, out_features=10, bias=True)\n",
       "  )\n",
       ")"
      ]
     },
     "execution_count": 25,
     "metadata": {},
     "output_type": "execute_result"
    }
   ],
   "source": [
    "model"
   ]
  },
  {
   "cell_type": "code",
   "execution_count": 28,
   "id": "15dc66f5-9e94-47a4-827b-b8712ed8a07a",
   "metadata": {},
   "outputs": [
    {
     "name": "stdout",
     "output_type": "stream",
     "text": [
      "Epoch [1/20], Loss: 0.6405\n",
      "Epoch [2/20], Loss: 0.5561\n",
      "Epoch [3/20], Loss: 0.5020\n",
      "Epoch [4/20], Loss: 0.4653\n",
      "Epoch [5/20], Loss: 0.4391\n",
      "Epoch [6/20], Loss: 0.4196\n",
      "Epoch [7/20], Loss: 0.4042\n",
      "Epoch [8/20], Loss: 0.3913\n",
      "Epoch [9/20], Loss: 0.3801\n",
      "Epoch [10/20], Loss: 0.3703\n",
      "Epoch [11/20], Loss: 0.3616\n",
      "Epoch [12/20], Loss: 0.3536\n",
      "Epoch [13/20], Loss: 0.3463\n",
      "Epoch [14/20], Loss: 0.3396\n",
      "Epoch [15/20], Loss: 0.3334\n",
      "Epoch [16/20], Loss: 0.3276\n",
      "Epoch [17/20], Loss: 0.3221\n",
      "Epoch [18/20], Loss: 0.3169\n",
      "Epoch [19/20], Loss: 0.3120\n",
      "Epoch [20/20], Loss: 0.3073\n"
     ]
    }
   ],
   "source": [
    "num_epochs = 20\n",
    "for epoch in range(num_epochs):    \n",
    "    for batch_idx, (data, target) in enumerate(train):\n",
    "        optimizer.zero_grad()\n",
    "        y_pred = model(data)\n",
    "        l = loss(y_pred, target)\n",
    "        l.backward()\n",
    "        optimizer.step()\n",
    "    print('Epoch [{}/{}], Loss: {:.4f}'.format(epoch+1, num_epochs, l.item()))"
   ]
  },
  {
   "cell_type": "code",
   "execution_count": null,
   "id": "08bb22df-daca-47f3-9efa-2faaadbadd4b",
   "metadata": {},
   "outputs": [],
   "source": []
  }
 ],
 "metadata": {
  "kernelspec": {
   "display_name": "Python 3",
   "language": "python",
   "name": "python3"
  },
  "language_info": {
   "codemirror_mode": {
    "name": "ipython",
    "version": 3
   },
   "file_extension": ".py",
   "mimetype": "text/x-python",
   "name": "python",
   "nbconvert_exporter": "python",
   "pygments_lexer": "ipython3",
   "version": "3.9.12"
  }
 },
 "nbformat": 4,
 "nbformat_minor": 5
}
