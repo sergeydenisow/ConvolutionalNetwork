{
 "cells": [
  {
   "cell_type": "markdown",
   "id": "63f8916a-7339-47bb-8b5f-7beef6d9b949",
   "metadata": {},
   "source": [
    "# Convolutional Networks\n",
    "\n",
    "**Используя сверточные слои и архитектуру получите на fashion mnist качество не ниже 89,5%**"
   ]
  },
  {
   "cell_type": "code",
   "execution_count": 1,
   "id": "630f2864-8935-4358-ae36-d843b158895c",
   "metadata": {},
   "outputs": [],
   "source": [
    "import matplotlib.pyplot as plt\n",
    "%matplotlib inline"
   ]
  },
  {
   "cell_type": "code",
   "execution_count": 2,
   "id": "d2e65cbf-06e2-41fb-9c83-e1aed989a18c",
   "metadata": {},
   "outputs": [],
   "source": [
    "import torch"
   ]
  },
  {
   "cell_type": "code",
   "execution_count": 3,
   "id": "484a2eb8-128c-4026-820e-1961200ee32a",
   "metadata": {},
   "outputs": [],
   "source": [
    "import torchvision as tv"
   ]
  },
  {
   "cell_type": "code",
   "execution_count": 4,
   "id": "e99c9323-62a0-41b4-9fa6-7738fe8d5152",
   "metadata": {},
   "outputs": [],
   "source": [
    "BATCH_SIZE=256"
   ]
  },
  {
   "cell_type": "code",
   "execution_count": 5,
   "id": "1a22b4c8-afb8-42d0-906f-c72096d71c0c",
   "metadata": {},
   "outputs": [],
   "source": [
    "# device = torch.device('cuda' if torch.cuda.is_available() else 'cpu')"
   ]
  },
  {
   "cell_type": "code",
   "execution_count": 6,
   "id": "395ffcc6-d296-41db-9b63-f9ea43ae5e6a",
   "metadata": {},
   "outputs": [],
   "source": [
    "# device"
   ]
  },
  {
   "cell_type": "markdown",
   "id": "d5cbff7e-6b4a-4847-b9cd-a8879540b922",
   "metadata": {},
   "source": [
    "## Данные"
   ]
  },
  {
   "cell_type": "code",
   "execution_count": 7,
   "id": "f65ac8fe-91d2-4f90-8eee-600518ef0db8",
   "metadata": {},
   "outputs": [],
   "source": [
    "train_dataset = tv.datasets.FashionMNIST('.', train=True, transform=tv.transforms.ToTensor(), download=True)\n",
    "test_dataset = tv.datasets.FashionMNIST('.', train=False, transform=tv.transforms.ToTensor(), download=True)\n",
    "\n",
    "# # Move all data to cuda.\n",
    "# train_dataset.data.to(device)\n",
    "# train_dataset.targets.to(device)\n",
    "# test_dataset.data.to(device)\n",
    "# test_dataset.targets.to(device)\n",
    "\n",
    "# Create data loader.\n",
    "train = torch.utils.data.DataLoader(train_dataset, batch_size=BATCH_SIZE)\n",
    "test = torch.utils.data.DataLoader(test_dataset, batch_size=BATCH_SIZE)"
   ]
  },
  {
   "cell_type": "code",
   "execution_count": null,
   "id": "f73cbde4-26af-444a-a376-0650cf9ad95e",
   "metadata": {},
   "outputs": [],
   "source": []
  },
  {
   "cell_type": "code",
   "execution_count": 8,
   "id": "d384a546-aa40-49df-8f65-374a7afd0616",
   "metadata": {},
   "outputs": [],
   "source": [
    "import numpy as np"
   ]
  },
  {
   "cell_type": "code",
   "execution_count": 9,
   "id": "e82af1f2-b7dc-456e-acd0-59c2703643ba",
   "metadata": {},
   "outputs": [
    {
     "data": {
      "text/plain": [
       "torch.Size([60000])"
      ]
     },
     "execution_count": 9,
     "metadata": {},
     "output_type": "execute_result"
    }
   ],
   "source": [
    "train.dataset.targets.shape"
   ]
  },
  {
   "cell_type": "code",
   "execution_count": 19,
   "id": "394cf1fa-4efb-427e-86e8-43c294362960",
   "metadata": {},
   "outputs": [
    {
     "data": {
      "image/png": "[encoded data removed]",
      "text/plain": [
       "<Figure size 576x576 with 9 Axes>"
      ]
     },
     "metadata": {
      "needs_background": "light"
     },
     "output_type": "display_data"
    }
   ],
   "source": [
    "labels_map = {\n",
    "    0: \"T-Shirt\",\n",
    "    1: \"Trouser\",\n",
    "    2: \"Pullover\",\n",
    "    3: \"Dress\",\n",
    "    4: \"Coat\",\n",
    "    5: \"Sandal\",\n",
    "    6: \"Shirt\",\n",
    "    7: \"Sneaker\",\n",
    "    8: \"Bag\",\n",
    "    9: \"Ankle Boot\",\n",
    "}\n",
    "figure = plt.figure(figsize=(8, 8))\n",
    "cols, rows = 3, 3\n",
    "for i in range(1, cols * rows + 1):\n",
    "    sample_idx = torch.randint(len(train_dataset), size=(1,)).item()\n",
    "    img, label = train_dataset[sample_idx]\n",
    "    figure.add_subplot(rows, cols, i)\n",
    "    plt.title(labels_map[label])\n",
    "    plt.axis(\"off\")\n",
    "    plt.imshow(img.squeeze(), cmap=\"gray\")\n",
    "plt.show()"
   ]
  },
  {
   "cell_type": "markdown",
   "id": "51623b7d-13b5-4dae-aeea-7d93e78a1cb9",
   "metadata": {},
   "source": [
    "## Модель"
   ]
  },
  {
   "cell_type": "code",
   "execution_count": 26,
   "id": "43fe5bed-3d6c-4f74-ab09-d54bbf6201b5",
   "metadata": {},
   "outputs": [],
   "source": [
    "class CNN(torch.nn.Module):\n",
    "\n",
    "    def __init__(self):\n",
    "        super(CNN, self).__init__()\n",
    "        self.classifier = torch.nn.Sequential(\n",
    "            torch.nn.Conv2d(in_channels=1, out_channels=8, kernel_size=(3,3), padding=(1,1), stride=(1,1)),\n",
    "            torch.nn.MaxPool2d(kernel_size=(2,2), stride=(2,2)),\n",
    "            torch.nn.Conv2d(in_channels=8, out_channels=16, kernel_size=(3,3), padding=(1,1), stride=(1,1)),\n",
    "            torch.nn.MaxPool2d(kernel_size=(2,2), stride=(2,2)),\n",
    "            torch.nn.Flatten(),\n",
    "            torch.nn.Linear(16*7*7, 256),\n",
    "            torch.nn.BatchNorm1d(256),\n",
    "            torch.nn.ReLU(),\n",
    "            torch.nn.Linear(256, 10)\n",
    "        )\n",
    "        \n",
    "    def forward(self, x):\n",
    "        # x = x.view(x.size(0), -1)\n",
    "        return self.classifier(x)\n",
    "\n",
    "# model\n",
    "model = CNN()\n",
    "\n",
    "# move to device.\n",
    "# model.to(device)\n",
    "\n",
    "loss = torch.nn.CrossEntropyLoss()\n",
    "optimizer = torch.optim.RMSprop(model.parameters(), lr = 0.0001)"
   ]
  },
  {
   "cell_type": "code",
   "execution_count": 27,
   "id": "a71fc4cc-9858-4efa-bf00-29245d525f2e",
   "metadata": {},
   "outputs": [
    {
     "data": {
      "text/plain": [
       "CNN(\n",
       "  (classifier): Sequential(\n",
       "    (0): Conv2d(1, 8, kernel_size=(3, 3), stride=(1, 1), padding=(1, 1))\n",
       "    (1): MaxPool2d(kernel_size=(2, 2), stride=(2, 2), padding=0, dilation=1, ceil_mode=False)\n",
       "    (2): Conv2d(8, 16, kernel_size=(3, 3), stride=(1, 1), padding=(1, 1))\n",
       "    (3): MaxPool2d(kernel_size=(2, 2), stride=(2, 2), padding=0, dilation=1, ceil_mode=False)\n",
       "    (4): Flatten(start_dim=1, end_dim=-1)\n",
       "    (5): Linear(in_features=784, out_features=256, bias=True)\n",
       "    (6): BatchNorm1d(256, eps=1e-05, momentum=0.1, affine=True, track_running_stats=True)\n",
       "    (7): ReLU()\n",
       "    (8): Linear(in_features=256, out_features=10, bias=True)\n",
       "  )\n",
       ")"
      ]
     },
     "execution_count": 27,
     "metadata": {},
     "output_type": "execute_result"
    }
   ],
   "source": [
    "model"
   ]
  },
  {
   "cell_type": "code",
   "execution_count": 28,
   "id": "15dc66f5-9e94-47a4-827b-b8712ed8a07a",
   "metadata": {},
   "outputs": [
    {
     "name": "stdout",
     "output_type": "stream",
     "text": [
      "epoch: 0, train_loss: 0.5630905637081633, train_acc: 0.8288833333333333, test_loss: 0.43746593594551086, test_acc: 0.8546\n",
      "epoch: 1, train_loss: 0.37894119379368235, train_acc: 0.8739166666666667, test_loss: 0.37423202097415925, test_acc: 0.87\n",
      "epoch: 2, train_loss: 0.32960247720809693, train_acc: 0.886, test_loss: 0.3446107964962721, test_acc: 0.8784\n",
      "epoch: 3, train_loss: 0.30006245577588997, train_acc: 0.8951, test_loss: 0.3261635549366474, test_acc: 0.8833\n",
      "epoch: 4, train_loss: 0.278677085105409, train_acc: 0.9020333333333334, test_loss: 0.313203002512455, test_acc: 0.8879\n",
      "epoch: 5, train_loss: 0.2615864205233594, train_acc: 0.9084666666666666, test_loss: 0.30379905439913274, test_acc: 0.89\n",
      "epoch: 6, train_loss: 0.2472301923214121, train_acc: 0.9133833333333333, test_loss: 0.2958106707781553, test_acc: 0.8924\n",
      "epoch: 7, train_loss: 0.23472537632952345, train_acc: 0.9177333333333333, test_loss: 0.28954348899424076, test_acc: 0.8945\n",
      "epoch: 8, train_loss: 0.2236017241122875, train_acc: 0.9219666666666667, test_loss: 0.28496803157031536, test_acc: 0.8959\n",
      "epoch: 9, train_loss: 0.21346590829656478, train_acc: 0.926, test_loss: 0.2810952067375183, test_acc: 0.8976\n",
      "epoch: 10, train_loss: 0.2041710319988271, train_acc: 0.92895, test_loss: 0.27757578864693644, test_acc: 0.8991\n",
      "epoch: 11, train_loss: 0.19550684481225114, train_acc: 0.93225, test_loss: 0.2747906405478716, test_acc: 0.8998\n",
      "epoch: 12, train_loss: 0.18741125217143526, train_acc: 0.9355833333333333, test_loss: 0.27272194884717466, test_acc: 0.9015\n",
      "epoch: 13, train_loss: 0.1796849697511247, train_acc: 0.93875, test_loss: 0.2710236109793186, test_acc: 0.9032\n",
      "epoch: 14, train_loss: 0.17231047984133374, train_acc: 0.9418, test_loss: 0.2694546189159155, test_acc: 0.9046\n",
      "epoch: 15, train_loss: 0.16526905499557232, train_acc: 0.9446833333333333, test_loss: 0.2683535236865282, test_acc: 0.906\n",
      "epoch: 16, train_loss: 0.15852002853408773, train_acc: 0.9472666666666667, test_loss: 0.26773137263953684, test_acc: 0.9065\n",
      "epoch: 17, train_loss: 0.1520336629069866, train_acc: 0.9495666666666667, test_loss: 0.26723715513944624, test_acc: 0.907\n",
      "epoch: 18, train_loss: 0.145690677806418, train_acc: 0.9522166666666667, test_loss: 0.2672140713781118, test_acc: 0.9069\n",
      "epoch: 19, train_loss: 0.13955584953122951, train_acc: 0.9548333333333333, test_loss: 0.26736905984580517, test_acc: 0.9066\n"
     ]
    }
   ],
   "source": [
    "num_epochs = 20\n",
    "for epoch in range(num_epochs):\n",
    "    train_iters, train_passed = 0, 0\n",
    "    train_loss, train_acc = 0, 0\n",
    "    for batch_idx, (data, target) in enumerate(train):\n",
    "        optimizer.zero_grad()\n",
    "        y_pred = model(data)\n",
    "        l = loss(y_pred, target)\n",
    "        l.backward()\n",
    "        optimizer.step()\n",
    "        train_loss += l.item()\n",
    "        train_acc +=(y_pred.argmax(dim=1) == target).sum().item()\n",
    "        train_iters += 1\n",
    "        train_passed += len(data)\n",
    "        \n",
    "    test_iters, test_passed = 0, 0\n",
    "    test_loss, test_acc = 0, 0\n",
    "    for batch_idx, (data, target) in enumerate(test):\n",
    "        y_pred = model(data)\n",
    "        l = loss(y_pred, target)\n",
    "        test_loss += l.item()\n",
    "        test_acc += (y_pred.argmax(dim=1) == target).sum().item()\n",
    "        test_iters += 1\n",
    "        test_passed += len(data)\n",
    "        \n",
    "    # print('Epoch [{}/{}], Loss: {:.4f}'.format(epoch+1, num_epochs, l.item()))\n",
    "    print(\"epoch: {}, train_loss: {}, train_acc: {}, test_loss: {}, test_acc: {}\".format(epoch, train_loss / train_iters, train_acc / train_passed, test_loss / test_iters, test_acc / test_passed))"
   ]
  },
  {
   "cell_type": "code",
   "execution_count": null,
   "id": "c4826e43-7686-495c-b05f-f7fbef4b1c67",
   "metadata": {},
   "outputs": [],
   "source": []
  },
  {
   "cell_type": "code",
   "execution_count": null,
   "id": "c0702c8f-9f37-43eb-aef7-5739e68f1c8a",
   "metadata": {},
   "outputs": [],
   "source": []
  },
  {
   "cell_type": "code",
   "execution_count": null,
   "id": "0aa9d057-ef37-4821-bd01-c2509d3a3f06",
   "metadata": {},
   "outputs": [],
   "source": []
  }
 ],
 "metadata": {
  "kernelspec": {
   "display_name": "Python 3 (ipykernel)",
   "language": "python",
   "name": "python3"
  },
  "language_info": {
   "codemirror_mode": {
    "name": "ipython",
    "version": 3
   },
   "file_extension": ".py",
   "mimetype": "text/x-python",
   "name": "python",
   "nbconvert_exporter": "python",
   "pygments_lexer": "ipython3",
   "version": "3.10.6"
  }
 },
 "nbformat": 4,
 "nbformat_minor": 5
}
